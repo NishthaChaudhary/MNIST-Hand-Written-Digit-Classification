{
 "cells": [
  {
   "cell_type": "markdown",
   "metadata": {},
   "source": [
    "## Simple TensorFlow Example"
   ]
  },
  {
   "cell_type": "code",
   "execution_count": 2,
   "metadata": {},
   "outputs": [],
   "source": [
    "''' A simple TensorFlow application '''\n",
    "\n",
    "from __future__ import absolute_import\n",
    "from __future__ import division\n",
    "from __future__ import print_function\n",
    "\n",
    "import tensorflow as tf\n",
    "\n"
   ]
  },
  {
   "cell_type": "code",
   "execution_count": 3,
   "metadata": {},
   "outputs": [
    {
     "name": "stdout",
     "output_type": "stream",
     "text": [
      "b'Hello TensorFlow'\n"
     ]
    }
   ],
   "source": [
    "# Create tensor\n",
    "msg = tf.string_join(['Hello ', 'TensorFlow'])\n",
    "\n",
    "with tf.Session() as sess:\n",
    "        print(sess.run(msg))"
   ]
  },
  {
   "cell_type": "markdown",
   "metadata": {},
   "source": [
    "## Basic Operations in TensorFlow"
   ]
  },
  {
   "cell_type": "code",
   "execution_count": 4,
   "metadata": {},
   "outputs": [],
   "source": [
    "# Step 1: Create two tensors and an addition operation\n",
    "t1 = tf.constant([1.2, 2.3, 3.4, 4.5])\n",
    "t2 = tf.random_normal([4])\n",
    "t3 = t1 + t2\n",
    "graph1 = tf.get_default_graph()\n",
    "\n",
    "# Step 2: Create a second graph and make it the default graph\n",
    "graph2 = tf.Graph()\n",
    "with graph2.as_default():\n",
    "\n",
    "# Step 3: Create two tensors in the second graph and a subtraction operation\n",
    "    t4 = tf.constant([5.6, 6.7, 7.8, 8.9])\n",
    "    t5 = tf.random_normal([4])\n",
    "    t6 = t4 - t5\n"
   ]
  },
  {
   "cell_type": "code",
   "execution_count": 5,
   "metadata": {},
   "outputs": [
    {
     "name": "stdout",
     "output_type": "stream",
     "text": [
      "Addition  [0.83181566 0.5065607  2.3536372  5.4337854 ]\n",
      "Subtraction  [6.1861625 6.1775947 6.8279486 6.9665184]\n"
     ]
    }
   ],
   "source": [
    "# Step 4: Create a session and execute the addition operation from the first graph\n",
    "with tf.Session(graph=graph1) as sess:\n",
    "    print('Addition ', sess.run(t3))\n",
    "\n",
    "# Step 5: Create a second session and execute the subtraction operation from the second graph\n",
    "with tf.Session(graph=graph2) as sess:\n",
    "    print('Subtraction ', sess.run(t6))"
   ]
  },
  {
   "cell_type": "markdown",
   "metadata": {},
   "source": [
    "## Logging in TensorFlow"
   ]
  },
  {
   "cell_type": "code",
   "execution_count": 6,
   "metadata": {},
   "outputs": [
    {
     "name": "stdout",
     "output_type": "stream",
     "text": [
      "INFO:tensorflow:Result: 5\n"
     ]
    }
   ],
   "source": [
    "# Step 1: Create two variables and an operation that adds them together\n",
    "v1 = tf.Variable(2)\n",
    "v2 = tf.Variable(3)\n",
    "v3 = v1 + v2\n",
    "\n",
    "# Step 2: Obtain an operation that initializes the two variables\n",
    "init = tf.global_variables_initializer()\n",
    "\n",
    "# Step 3: Execute the initialization operation in a session\n",
    "with tf.Session() as sess:\n",
    "    sess.run(init)\n",
    "\n",
    "# Step 4: Execute the addition operation in a session\n",
    "    result = sess.run(v3)\n",
    "\n",
    "# Step 5: Print the result of the addition to the log\n",
    "    tf.logging.set_verbosity(tf.logging.INFO)\n",
    "    tf.logging.info('Result: {0}'.format(result))"
   ]
  },
  {
   "cell_type": "markdown",
   "metadata": {},
   "source": [
    "## Optimizing the Model"
   ]
  },
  {
   "cell_type": "code",
   "execution_count": 7,
   "metadata": {},
   "outputs": [
    {
     "name": "stdout",
     "output_type": "stream",
     "text": [
      "INFO:tensorflow:x is 1.9449639320373535 and the loss is 1.0032293796539307\n"
     ]
    }
   ],
   "source": [
    "# Define constants\n",
    "learn_rate = 0.2\n",
    "num_steps = 100\n",
    "\n",
    "# Step 1: Define the loss function\n",
    "x = tf.Variable(0.0)\n",
    "loss = tf.pow(x, 2) - 4.0 * x + 5.0\n",
    "\n",
    "# Step 2: Create an optimizer to minimize the loss\n",
    "optimizer = tf.train.AdagradOptimizer(learn_rate).minimize(loss)\n",
    "\n",
    "# Step 3: Execute the optimizer in a session\n",
    "with tf.Session() as sess:\n",
    "    sess.run(tf.global_variables_initializer())\n",
    "    for _ in range(num_steps):\n",
    "        _, loss_val, x_val = sess.run([optimizer, loss, x])\n",
    "\n",
    "# Step 4: Print the values of x and the loss to the log\n",
    "    tf.logging.set_verbosity(tf.logging.INFO)\n",
    "    str = 'x is {0} and the loss is {1}'.format(x_val, loss_val)\n",
    "    tf.logging.info(str)"
   ]
  },
  {
   "cell_type": "markdown",
   "metadata": {},
   "source": [
    "## Linear Regression using TensorFlow"
   ]
  },
  {
   "cell_type": "code",
   "execution_count": 16,
   "metadata": {},
   "outputs": [],
   "source": [
    "import numpy as np\n",
    "#import tensorflow as tf\n",
    "\n",
    "# Set constants\n",
    "N = 1000\n",
    "learn_rate = 0.1\n",
    "batch_size = 40\n",
    "num_batches = 400\n",
    "\n",
    "# Step 1: Generate input points\n",
    "x = np.random.normal(size=N)\n",
    "#to approximate the slope; loc tells to generate the numbers with mean 0.5; with 0.2 SD\n",
    "m_real = np.random.normal(loc=0.5, scale=0.2, size=N)\n",
    "b_real = np.random.normal(loc=1.0, scale=0.2, size=N)\n",
    "y = m_real * x + b_real"
   ]
  },
  {
   "cell_type": "code",
   "execution_count": 17,
   "metadata": {},
   "outputs": [
    {
     "data": {
      "text/plain": [
       "(1000,)"
      ]
     },
     "execution_count": 17,
     "metadata": {},
     "output_type": "execute_result"
    }
   ],
   "source": [
    "y.shape"
   ]
  },
  {
   "cell_type": "code",
   "execution_count": 18,
   "metadata": {},
   "outputs": [],
   "source": [
    "# Step 2: Create variables and placeholders\n",
    "m = tf.Variable(tf.random_normal([]))\n",
    "b = tf.Variable(tf.random_normal([]))\n",
    "gstep = tf.Variable(0, trainable=False)\n",
    "x_holder = tf.placeholder(tf.float32, shape=[batch_size])\n",
    "y_holder = tf.placeholder(tf.float32, shape=[batch_size])"
   ]
  },
  {
   "cell_type": "code",
   "execution_count": 19,
   "metadata": {},
   "outputs": [],
   "source": [
    "# Step 3: Define model and loss\n",
    "model = m * x_holder + b\n",
    "loss = tf.reduce_mean(tf.pow(model - y_holder, 2))"
   ]
  },
  {
   "cell_type": "code",
   "execution_count": 20,
   "metadata": {},
   "outputs": [],
   "source": [
    "# Step 4: Create optimizer\n",
    "optimizer = tf.train.GradientDescentOptimizer(learn_rate).minimize(loss, global_step=gstep)"
   ]
  },
  {
   "cell_type": "code",
   "execution_count": 21,
   "metadata": {},
   "outputs": [],
   "source": [
    "# Tensorboard\n",
    "\n",
    "op1 = tf.summary.scalar('m', m)\n",
    "op2 = tf.summary.scalar('b', b)\n",
    "merged_op = tf.summary.merge_all()\n",
    "\n",
    "file_writer = tf.summary.FileWriter('C:/Users/nisht/Anaconda3_n/envs/LL/Accelerating_TensorFlow/03_09/tboard')"
   ]
  },
  {
   "cell_type": "code",
   "execution_count": 22,
   "metadata": {},
   "outputs": [],
   "source": [
    "# Step 5: Execute optimizer in a session\n",
    "with tf.Session() as sess:\n",
    "    sess.run(tf.global_variables_initializer())\n",
    "\n",
    "    # Perform training\n",
    "    for batch in range(num_batches):\n",
    "\n",
    "        # Create batch of data\n",
    "        x_data = np.empty(batch_size)\n",
    "        y_data = np.empty(batch_size)\n",
    "        for i in range(batch_size):\n",
    "            index = np.random.randint(0, N)\n",
    "            x_data[i] = x[index]\n",
    "            y_data[i] = y[index]\n",
    "\n",
    "        _, summary, step = sess.run([optimizer, merged_op, gstep], feed_dict={x_holder: x_data, y_holder: y_data})\n",
    "        \n",
    "        file_writer.add_summary(summary, global_step=step)\n",
    "        file_writer.flush()"
   ]
  },
  {
   "attachments": {
    "image.png": {
     "image/png": "[encoded data removed]"
    }
   },
   "cell_type": "markdown",
   "metadata": {},
   "source": [
    "### Display b distribution:\n",
    "\n",
    "![image.png](attachment:image.png)"
   ]
  },
  {
   "attachments": {
    "image.png": {
     "image/png": "[encoded data removed]"
    }
   },
   "cell_type": "markdown",
   "metadata": {},
   "source": [
    "### Display m distribution:\n",
    "\n",
    "![image.png](attachment:image.png)"
   ]
  },
  {
   "cell_type": "markdown",
   "metadata": {},
   "source": [
    "## Datasets and Iterators"
   ]
  },
  {
   "cell_type": "code",
   "execution_count": 23,
   "metadata": {},
   "outputs": [],
   "source": [
    "# Generator function\n",
    "def gen_func():\n",
    "    x = 12\n",
    "    while x < 20:\n",
    "        yield x\n",
    "        x += 2"
   ]
  },
  {
   "cell_type": "code",
   "execution_count": 24,
   "metadata": {},
   "outputs": [
    {
     "name": "stdout",
     "output_type": "stream",
     "text": [
      "0\n",
      "1\n",
      "2\n",
      "3\n",
      "[[4 5]\n",
      " [6 7]]\n",
      "[8]\n",
      "[9]\n",
      "[10]\n",
      "[11]\n",
      "12\n",
      "14\n",
      "16\n",
      "18\n"
     ]
    }
   ],
   "source": [
    "# Step 1: Create a dataset/iterator from a range of values\n",
    "ds1 = tf.data.Dataset.range(4)\n",
    "iter1 = ds1.make_one_shot_iterator()\n",
    "\n",
    "# Step 2: Create a dataset/iterator from two tensors\n",
    "t1 = tf.constant([4, 5])\n",
    "t2 = tf.constant([6, 7])\n",
    "ds2 = tf.data.Dataset.from_tensors([t1, t2])\n",
    "iter2 = ds2.make_one_shot_iterator()\n",
    "\n",
    "# Step 3: Create a dataset/iterator from rows of a tensor\n",
    "t3 = tf.constant([[8], [9], [10], [11]])\n",
    "ds3 = tf.data.Dataset.from_tensor_slices(t3)\n",
    "iter3 = ds3.make_one_shot_iterator()\n",
    "\n",
    "# Step 4: Create a dataset/iterator from a generator function\n",
    "ds4 = tf.data.Dataset.from_generator(gen_func, output_types=tf.int64)\n",
    "iter4 = ds4.make_one_shot_iterator()\n",
    "\n",
    "# Step 5: Print the elements of each dataset\n",
    "with tf.Session() as sess:\n",
    "    \n",
    "    for _ in range(4):\n",
    "        print(sess.run(iter1.get_next()))\n",
    "        \n",
    "    print(sess.run(iter2.get_next()))        \n",
    "\n",
    "    for _ in range(4):\n",
    "        print(sess.run(iter3.get_next()))    \n",
    "        \n",
    "    for _ in range(4):\n",
    "        print(sess.run(iter4.get_next()))    "
   ]
  },
  {
   "cell_type": "markdown",
   "metadata": {},
   "source": [
    "## Dealing with MNIST Dataset"
   ]
  },
  {
   "cell_type": "code",
   "execution_count": 31,
   "metadata": {},
   "outputs": [],
   "source": [
    "import matplotlib.pyplot as plt\n",
    "#import tensorflow as tf\n",
    "\n",
    "# Step 1: Create a TFRecordDataset and iterator\n",
    "dset = tf.data.TFRecordDataset('C:/Users/nisht/Anaconda3_n/envs/LL/Accelerating_TensorFlow/images/mnist_test.tfrecords')\n",
    "iter = dset.make_one_shot_iterator()\n",
    "\n",
    "# Step 2: Create a dictionary that describes the examples\n",
    "feature_dict = {'images': tf.FixedLenFeature([], tf.string),\n",
    "                'labels': tf.FixedLenFeature([], tf.int64)}"
   ]
  },
  {
   "cell_type": "code",
   "execution_count": 32,
   "metadata": {},
   "outputs": [
    {
     "data": {
      "text/plain": [
       "<TFRecordDataset shapes: (), types: tf.string>"
      ]
     },
     "execution_count": 32,
     "metadata": {},
     "output_type": "execute_result"
    }
   ],
   "source": [
    "dset"
   ]
  },
  {
   "cell_type": "code",
   "execution_count": 33,
   "metadata": {},
   "outputs": [
    {
     "data": {
      "image/png": "[encoded data removed]",
      "text/plain": [
       "<Figure size 432x288 with 1 Axes>"
      ]
     },
     "metadata": {
      "needs_background": "light"
     },
     "output_type": "display_data"
    }
   ],
   "source": [
    "# Step 3: Parse the first example\n",
    "with tf.Session() as sess:\n",
    "    example = sess.run(iter.get_next())\n",
    "    mnist = tf.parse_single_example(example, feature_dict)\n",
    "    \n",
    "# Step 4: Convert the data in the first image to a 28-by-28 array\n",
    "    pixels = tf.decode_raw(mnist['images'], tf.uint8)\n",
    "    pixel_matrix = pixels.eval().reshape((28, 28))\n",
    "    \n",
    "# Step 5: Display the image\n",
    "    plt.imshow(pixel_matrix, cmap='gray')\n",
    "    plt.show"
   ]
  },
  {
   "cell_type": "markdown",
   "metadata": {},
   "source": [
    "## Implementing Linear egression on MNIST using TF Estimators"
   ]
  },
  {
   "cell_type": "code",
   "execution_count": 34,
   "metadata": {},
   "outputs": [
    {
     "name": "stdout",
     "output_type": "stream",
     "text": [
      "INFO:tensorflow:Using default config.\n",
      "WARNING:tensorflow:Using temporary folder as model directory: C:\\Users\\nisht\\AppData\\Local\\Temp\\tmpl82h804a\n",
      "INFO:tensorflow:Using config: {'_model_dir': 'C:\\\\Users\\\\nisht\\\\AppData\\\\Local\\\\Temp\\\\tmpl82h804a', '_tf_random_seed': None, '_save_summary_steps': 100, '_save_checkpoints_steps': None, '_save_checkpoints_secs': 600, '_session_config': None, '_keep_checkpoint_max': 5, '_keep_checkpoint_every_n_hours': 10000, '_log_step_count_steps': 100, '_train_distribute': None, '_service': None, '_cluster_spec': <tensorflow.python.training.server_lib.ClusterSpec object at 0x000001AE6820CF98>, '_task_type': 'worker', '_task_id': 0, '_global_id_in_cluster': 0, '_master': '', '_evaluation_master': '', '_is_chief': True, '_num_ps_replicas': 0, '_num_worker_replicas': 1}\n",
      "INFO:tensorflow:Calling model_fn.\n",
      "INFO:tensorflow:Done calling model_fn.\n",
      "INFO:tensorflow:Create CheckpointSaverHook.\n",
      "INFO:tensorflow:Graph was finalized.\n",
      "INFO:tensorflow:Running local_init_op.\n",
      "INFO:tensorflow:Done running local_init_op.\n",
      "INFO:tensorflow:Saving checkpoints for 1 into C:\\Users\\nisht\\AppData\\Local\\Temp\\tmpl82h804a\\model.ckpt.\n",
      "INFO:tensorflow:loss = 145.57503, step = 1\n",
      "INFO:tensorflow:global_step/sec: 612.51\n",
      "INFO:tensorflow:loss = 6.27075, step = 101 (0.178 sec)\n",
      "INFO:tensorflow:global_step/sec: 620.813\n",
      "INFO:tensorflow:loss = 9.516295, step = 201 (0.148 sec)\n",
      "INFO:tensorflow:global_step/sec: 686.762\n",
      "INFO:tensorflow:loss = 9.66324, step = 301 (0.146 sec)\n",
      "INFO:tensorflow:global_step/sec: 802.059\n",
      "INFO:tensorflow:loss = 7.8815184, step = 401 (0.126 sec)\n",
      "INFO:tensorflow:global_step/sec: 828.747\n",
      "INFO:tensorflow:loss = 10.789328, step = 501 (0.120 sec)\n",
      "INFO:tensorflow:global_step/sec: 789.504\n",
      "INFO:tensorflow:loss = 9.503933, step = 601 (0.127 sec)\n",
      "INFO:tensorflow:global_step/sec: 443.661\n",
      "INFO:tensorflow:loss = 10.892155, step = 701 (0.230 sec)\n",
      "INFO:tensorflow:global_step/sec: 416.049\n",
      "INFO:tensorflow:loss = 7.4454594, step = 801 (0.235 sec)\n",
      "INFO:tensorflow:global_step/sec: 547.905\n",
      "INFO:tensorflow:loss = 7.0384393, step = 901 (0.184 sec)\n",
      "INFO:tensorflow:global_step/sec: 634.576\n",
      "INFO:tensorflow:loss = 9.424621, step = 1001 (0.157 sec)\n",
      "INFO:tensorflow:global_step/sec: 651.127\n",
      "INFO:tensorflow:loss = 9.975382, step = 1101 (0.154 sec)\n",
      "INFO:tensorflow:global_step/sec: 638.646\n",
      "INFO:tensorflow:loss = 11.10403, step = 1201 (0.157 sec)\n",
      "INFO:tensorflow:global_step/sec: 668.446\n",
      "INFO:tensorflow:loss = 11.069316, step = 1301 (0.150 sec)\n",
      "INFO:tensorflow:global_step/sec: 600.405\n",
      "INFO:tensorflow:loss = 8.752565, step = 1401 (0.167 sec)\n",
      "INFO:tensorflow:global_step/sec: 895.251\n",
      "INFO:tensorflow:loss = 8.253103, step = 1501 (0.112 sec)\n",
      "INFO:tensorflow:global_step/sec: 835.564\n",
      "INFO:tensorflow:loss = 8.293375, step = 1601 (0.120 sec)\n",
      "INFO:tensorflow:global_step/sec: 795.776\n",
      "INFO:tensorflow:loss = 8.095014, step = 1701 (0.126 sec)\n",
      "INFO:tensorflow:global_step/sec: 777.267\n",
      "INFO:tensorflow:loss = 6.7886534, step = 1801 (0.130 sec)\n",
      "INFO:tensorflow:global_step/sec: 783.338\n",
      "INFO:tensorflow:loss = 9.684431, step = 1901 (0.127 sec)\n",
      "INFO:tensorflow:global_step/sec: 802.137\n",
      "INFO:tensorflow:loss = 8.338857, step = 2001 (0.125 sec)\n",
      "INFO:tensorflow:global_step/sec: 879.541\n",
      "INFO:tensorflow:loss = 10.168459, step = 2101 (0.114 sec)\n",
      "INFO:tensorflow:global_step/sec: 428.495\n",
      "INFO:tensorflow:loss = 9.571293, step = 2201 (0.233 sec)\n",
      "INFO:tensorflow:global_step/sec: 748.265\n",
      "INFO:tensorflow:loss = 9.551945, step = 2301 (0.134 sec)\n",
      "INFO:tensorflow:global_step/sec: 789.507\n",
      "INFO:tensorflow:loss = 8.159159, step = 2401 (0.127 sec)\n",
      "INFO:tensorflow:global_step/sec: 748.264\n",
      "INFO:tensorflow:loss = 12.966558, step = 2501 (0.134 sec)\n",
      "INFO:tensorflow:global_step/sec: 765.403\n",
      "INFO:tensorflow:loss = 10.932911, step = 2601 (0.131 sec)\n",
      "INFO:tensorflow:global_step/sec: 828.652\n",
      "INFO:tensorflow:loss = 7.6831465, step = 2701 (0.121 sec)\n",
      "INFO:tensorflow:global_step/sec: 547.909\n",
      "INFO:tensorflow:loss = 8.866575, step = 2801 (0.184 sec)\n",
      "INFO:tensorflow:global_step/sec: 372.744\n",
      "INFO:tensorflow:loss = 6.8049, step = 2901 (0.267 sec)\n",
      "INFO:tensorflow:global_step/sec: 611.384\n",
      "INFO:tensorflow:loss = 9.005007, step = 3001 (0.164 sec)\n",
      "INFO:tensorflow:global_step/sec: 493.93\n",
      "INFO:tensorflow:loss = 10.75495, step = 3101 (0.202 sec)\n",
      "INFO:tensorflow:global_step/sec: 626.645\n",
      "INFO:tensorflow:loss = 12.189007, step = 3201 (0.160 sec)\n",
      "INFO:tensorflow:global_step/sec: 691.465\n",
      "INFO:tensorflow:loss = 10.023503, step = 3301 (0.147 sec)\n",
      "INFO:tensorflow:global_step/sec: 439.796\n",
      "INFO:tensorflow:loss = 10.2925415, step = 3401 (0.226 sec)\n",
      "INFO:tensorflow:global_step/sec: 384.861\n",
      "INFO:tensorflow:loss = 10.515061, step = 3501 (0.272 sec)\n",
      "INFO:tensorflow:global_step/sec: 471.435\n",
      "INFO:tensorflow:loss = 7.8390737, step = 3601 (0.196 sec)\n",
      "INFO:tensorflow:global_step/sec: 484.609\n",
      "INFO:tensorflow:loss = 8.985084, step = 3701 (0.206 sec)\n",
      "INFO:tensorflow:global_step/sec: 737.187\n",
      "INFO:tensorflow:loss = 8.550033, step = 3801 (0.136 sec)\n",
      "INFO:tensorflow:global_step/sec: 628.316\n",
      "INFO:tensorflow:loss = 8.279629, step = 3901 (0.160 sec)\n",
      "INFO:tensorflow:global_step/sec: 771.291\n",
      "INFO:tensorflow:loss = 8.862679, step = 4001 (0.130 sec)\n",
      "INFO:tensorflow:global_step/sec: 651.086\n",
      "INFO:tensorflow:loss = 10.004442, step = 4101 (0.154 sec)\n",
      "INFO:tensorflow:global_step/sec: 808.608\n",
      "INFO:tensorflow:loss = 6.750244, step = 4201 (0.125 sec)\n",
      "INFO:tensorflow:global_step/sec: 795.774\n",
      "INFO:tensorflow:loss = 9.634214, step = 4301 (0.126 sec)\n",
      "INFO:tensorflow:global_step/sec: 815.188\n",
      "INFO:tensorflow:loss = 7.778759, step = 4401 (0.122 sec)\n",
      "INFO:tensorflow:global_step/sec: 856.99\n",
      "INFO:tensorflow:loss = 10.430544, step = 4501 (0.118 sec)\n",
      "INFO:tensorflow:global_step/sec: 651.085\n",
      "INFO:tensorflow:loss = 11.903743, step = 4601 (0.154 sec)\n",
      "INFO:tensorflow:global_step/sec: 783.338\n",
      "INFO:tensorflow:loss = 7.670527, step = 4701 (0.128 sec)\n",
      "INFO:tensorflow:global_step/sec: 821.871\n",
      "INFO:tensorflow:loss = 8.754587, step = 4801 (0.122 sec)\n",
      "INFO:tensorflow:global_step/sec: 789.503\n",
      "INFO:tensorflow:loss = 10.483975, step = 4901 (0.128 sec)\n",
      "INFO:tensorflow:global_step/sec: 731.883\n",
      "INFO:tensorflow:loss = 8.2495575, step = 5001 (0.136 sec)\n",
      "INFO:tensorflow:global_step/sec: 828.658\n",
      "INFO:tensorflow:loss = 11.322708, step = 5101 (0.120 sec)\n",
      "INFO:tensorflow:global_step/sec: 828.631\n",
      "INFO:tensorflow:loss = 8.071223, step = 5201 (0.121 sec)\n",
      "INFO:tensorflow:global_step/sec: 849.658\n",
      "INFO:tensorflow:loss = 8.00163, step = 5301 (0.119 sec)\n",
      "INFO:tensorflow:global_step/sec: 742.796\n",
      "INFO:tensorflow:loss = 8.415947, step = 5401 (0.134 sec)\n",
      "INFO:tensorflow:global_step/sec: 716.196\n",
      "INFO:tensorflow:loss = 10.996144, step = 5501 (0.140 sec)\n",
      "INFO:tensorflow:global_step/sec: 626.675\n",
      "INFO:tensorflow:loss = 10.033108, step = 5601 (0.161 sec)\n",
      "INFO:tensorflow:global_step/sec: 691.489\n",
      "INFO:tensorflow:loss = 9.233568, step = 5701 (0.145 sec)\n",
      "INFO:tensorflow:global_step/sec: 691.509\n",
      "INFO:tensorflow:loss = 8.185947, step = 5801 (0.144 sec)\n",
      "INFO:tensorflow:global_step/sec: 771.287\n",
      "INFO:tensorflow:loss = 7.715225, step = 5901 (0.130 sec)\n",
      "INFO:tensorflow:global_step/sec: 789.509\n",
      "INFO:tensorflow:loss = 10.474442, step = 6001 (0.127 sec)\n",
      "INFO:tensorflow:global_step/sec: 759.601\n",
      "INFO:tensorflow:loss = 7.1297917, step = 6101 (0.133 sec)\n",
      "INFO:tensorflow:global_step/sec: 795.773\n",
      "INFO:tensorflow:loss = 9.463711, step = 6201 (0.125 sec)\n",
      "INFO:tensorflow:Saving checkpoints for 6250 into C:\\Users\\nisht\\AppData\\Local\\Temp\\tmpl82h804a\\model.ckpt.\n",
      "INFO:tensorflow:Loss for final step: 10.794327.\n"
     ]
    },
    {
     "data": {
      "text/plain": [
       "<tensorflow.python.estimator.canned.linear.LinearRegressor at 0x1ae658ebcf8>"
      ]
     },
     "execution_count": 34,
     "metadata": {},
     "output_type": "execute_result"
    }
   ],
   "source": [
    "''' Demonstrate how estimators can be used for regression '''\n",
    "\n",
    "# Define constants\n",
    "N = 1000\n",
    "num_steps = 800\n",
    "\n",
    "# Step 1: Generate input points\n",
    "x_train = np.random.normal(size=N)\n",
    "m = np.random.normal(loc=0.5, scale=0.2, size=N)\n",
    "b = np.random.normal(loc=1.0, scale=0.2, size=N)\n",
    "y_train = m * x_train + b\n",
    "\n",
    "# Step 2: Create a feature column\n",
    "x_col = tf.feature_column.numeric_column('x_coords')\n",
    "\n",
    "# Step 3: Create a LinearRegressor\n",
    "estimator = tf.estimator.LinearRegressor([x_col])\n",
    "\n",
    "# Step 4: Train the estimator with the generated data\n",
    "train_input = tf.estimator.inputs.numpy_input_fn(\n",
    "        x={'x_coords': x_train}, y=y_train,\n",
    "        shuffle=True, num_epochs=num_steps)\n",
    "estimator.train(train_input)\n",
    "        "
   ]
  },
  {
   "cell_type": "code",
   "execution_count": 35,
   "metadata": {},
   "outputs": [
    {
     "name": "stdout",
     "output_type": "stream",
     "text": [
      "INFO:tensorflow:Calling model_fn.\n",
      "INFO:tensorflow:Done calling model_fn.\n",
      "INFO:tensorflow:Graph was finalized.\n",
      "INFO:tensorflow:Restoring parameters from C:\\Users\\nisht\\AppData\\Local\\Temp\\tmpl82h804a\\model.ckpt-6250\n",
      "INFO:tensorflow:Running local_init_op.\n",
      "INFO:tensorflow:Done running local_init_op.\n",
      "[1.4858601]\n",
      "[1.9702799]\n"
     ]
    }
   ],
   "source": [
    "# Step 5: Predict the y-values when x equals 1.0 and 2.0\n",
    "predict_input = tf.estimator.inputs.numpy_input_fn(\n",
    "        x={'x_coords': np.array([1.0, 2.0], dtype=np.float32)},\n",
    "        num_epochs=1, shuffle=False)\n",
    "results = estimator.predict(predict_input)\n",
    "\n",
    "for value in results:\n",
    "    print(value['predictions'])"
   ]
  },
  {
   "cell_type": "markdown",
   "metadata": {},
   "source": [
    "## DNN Classifier on MNIST using Tensor Estimator"
   ]
  },
  {
   "cell_type": "code",
   "execution_count": 53,
   "metadata": {},
   "outputs": [],
   "source": [
    "# Define constants\n",
    "image_dim = 28\n",
    "num_labels = 10\n",
    "#batch_size = 80\n",
    "#num_steps = 8000\n",
    "hidden_layers = [128, 32]\n",
    "\n",
    "# Step 1: Create a function to parse MNIST data\n",
    "def parser(record):\n",
    "    features = tf.parse_single_example(record,\n",
    "            features = {\n",
    "                    'images': tf.FixedLenFeature([], tf.string),\n",
    "                    'labels': tf.FixedLenFeature([], tf.int64),\n",
    "                    })\n",
    "    image = tf.decode_raw(features['images'], tf.uint8)\n",
    "    image.set_shape([image_dim * image_dim])\n",
    "    image = tf.cast(image, tf.float32) * (1.0/255) - 0.5\n",
    "    label = features['labels']\n",
    "    return image, label\n",
    "\n",
    "# Step 2: Describe input data with a feature column\n",
    "column = tf.feature_column.numeric_column('pixels', shape=[image_dim * image_dim])"
   ]
  },
  {
   "cell_type": "code",
   "execution_count": 54,
   "metadata": {},
   "outputs": [
    {
     "name": "stdout",
     "output_type": "stream",
     "text": [
      "INFO:tensorflow:Using default config.\n",
      "INFO:tensorflow:Using config: {'_model_dir': 'dnn_output', '_tf_random_seed': None, '_save_summary_steps': 100, '_save_checkpoints_steps': None, '_save_checkpoints_secs': 600, '_session_config': None, '_keep_checkpoint_max': 5, '_keep_checkpoint_every_n_hours': 10000, '_log_step_count_steps': 100, '_train_distribute': None, '_service': None, '_cluster_spec': <tensorflow.python.training.server_lib.ClusterSpec object at 0x000001AE6BC32F98>, '_task_type': 'worker', '_task_id': 0, '_global_id_in_cluster': 0, '_master': '', '_evaluation_master': '', '_is_chief': True, '_num_ps_replicas': 0, '_num_worker_replicas': 1}\n"
     ]
    }
   ],
   "source": [
    "# Step 3: Create a DNNClassifier with the feature column\n",
    "dnn_class = tf.estimator.DNNClassifier(hidden_layers, [column],\n",
    "        model_dir='dnn_output', n_classes=num_labels)"
   ]
  },
  {
   "cell_type": "code",
   "execution_count": 39,
   "metadata": {},
   "outputs": [
    {
     "name": "stdout",
     "output_type": "stream",
     "text": [
      "INFO:tensorflow:Calling model_fn.\n",
      "INFO:tensorflow:Done calling model_fn.\n",
      "INFO:tensorflow:Create CheckpointSaverHook.\n",
      "INFO:tensorflow:Graph was finalized.\n",
      "INFO:tensorflow:Running local_init_op.\n",
      "INFO:tensorflow:Done running local_init_op.\n",
      "INFO:tensorflow:Saving checkpoints for 1 into dnn_output\\model.ckpt.\n",
      "INFO:tensorflow:loss = 207.07034, step = 1\n",
      "INFO:tensorflow:global_step/sec: 95.4433\n",
      "INFO:tensorflow:loss = 60.776043, step = 101 (1.053 sec)\n",
      "INFO:tensorflow:global_step/sec: 183.641\n",
      "INFO:tensorflow:loss = 38.944504, step = 201 (0.542 sec)\n",
      "INFO:tensorflow:global_step/sec: 166.557\n",
      "INFO:tensorflow:loss = 27.634481, step = 301 (0.600 sec)\n",
      "INFO:tensorflow:global_step/sec: 190.623\n",
      "INFO:tensorflow:loss = 34.902332, step = 401 (0.525 sec)\n",
      "INFO:tensorflow:global_step/sec: 186.025\n",
      "INFO:tensorflow:loss = 33.898277, step = 501 (0.538 sec)\n",
      "INFO:tensorflow:global_step/sec: 189.542\n",
      "INFO:tensorflow:loss = 24.749817, step = 601 (0.529 sec)\n",
      "INFO:tensorflow:global_step/sec: 174.075\n",
      "INFO:tensorflow:loss = 12.767967, step = 701 (0.574 sec)\n",
      "INFO:tensorflow:global_step/sec: 114.854\n",
      "INFO:tensorflow:loss = 27.907017, step = 801 (0.871 sec)\n",
      "INFO:tensorflow:global_step/sec: 169.945\n",
      "INFO:tensorflow:loss = 14.033819, step = 901 (0.587 sec)\n",
      "INFO:tensorflow:global_step/sec: 174.683\n",
      "INFO:tensorflow:loss = 18.51349, step = 1001 (0.573 sec)\n",
      "INFO:tensorflow:global_step/sec: 162.503\n",
      "INFO:tensorflow:loss = 13.297666, step = 1101 (0.614 sec)\n",
      "INFO:tensorflow:global_step/sec: 188.478\n",
      "INFO:tensorflow:loss = 25.942442, step = 1201 (0.532 sec)\n",
      "INFO:tensorflow:global_step/sec: 175.294\n",
      "INFO:tensorflow:loss = 22.296295, step = 1301 (0.570 sec)\n",
      "INFO:tensorflow:global_step/sec: 182.97\n",
      "INFO:tensorflow:loss = 23.077414, step = 1401 (0.547 sec)\n",
      "INFO:tensorflow:global_step/sec: 181.315\n",
      "INFO:tensorflow:loss = 16.567951, step = 1501 (0.551 sec)\n",
      "INFO:tensorflow:global_step/sec: 203.796\n",
      "INFO:tensorflow:loss = 16.240871, step = 1601 (0.491 sec)\n",
      "INFO:tensorflow:global_step/sec: 194.317\n",
      "INFO:tensorflow:loss = 15.274792, step = 1701 (0.515 sec)\n",
      "INFO:tensorflow:global_step/sec: 96.9706\n",
      "INFO:tensorflow:loss = 10.2445545, step = 1801 (1.032 sec)\n",
      "INFO:tensorflow:global_step/sec: 187.766\n",
      "INFO:tensorflow:loss = 21.531826, step = 1901 (0.532 sec)\n",
      "INFO:tensorflow:global_step/sec: 189.185\n",
      "INFO:tensorflow:loss = 11.8370075, step = 2001 (0.529 sec)\n",
      "INFO:tensorflow:global_step/sec: 204.628\n",
      "INFO:tensorflow:loss = 11.615467, step = 2101 (0.490 sec)\n",
      "INFO:tensorflow:global_step/sec: 196.218\n",
      "INFO:tensorflow:loss = 25.24665, step = 2201 (0.509 sec)\n",
      "INFO:tensorflow:global_step/sec: 206.312\n",
      "INFO:tensorflow:loss = 12.453091, step = 2301 (0.485 sec)\n",
      "INFO:tensorflow:global_step/sec: 209.327\n",
      "INFO:tensorflow:loss = 11.731099, step = 2401 (0.479 sec)\n",
      "INFO:tensorflow:global_step/sec: 193.976\n",
      "INFO:tensorflow:loss = 13.604362, step = 2501 (0.515 sec)\n",
      "INFO:tensorflow:global_step/sec: 210.646\n",
      "INFO:tensorflow:loss = 10.142308, step = 2601 (0.475 sec)\n",
      "INFO:tensorflow:global_step/sec: 191.716\n",
      "INFO:tensorflow:loss = 10.214209, step = 2701 (0.522 sec)\n",
      "INFO:tensorflow:global_step/sec: 209.765\n",
      "INFO:tensorflow:loss = 6.135001, step = 2801 (0.477 sec)\n",
      "INFO:tensorflow:global_step/sec: 189.184\n",
      "INFO:tensorflow:loss = 14.226917, step = 2901 (0.530 sec)\n",
      "INFO:tensorflow:global_step/sec: 211.089\n",
      "INFO:tensorflow:loss = 4.096133, step = 3001 (0.474 sec)\n",
      "INFO:tensorflow:global_step/sec: 196.989\n",
      "INFO:tensorflow:loss = 12.302062, step = 3101 (0.507 sec)\n",
      "INFO:tensorflow:global_step/sec: 210.642\n",
      "INFO:tensorflow:loss = 16.615211, step = 3201 (0.475 sec)\n",
      "INFO:tensorflow:global_step/sec: 196.606\n",
      "INFO:tensorflow:loss = 32.997414, step = 3301 (0.509 sec)\n",
      "INFO:tensorflow:global_step/sec: 205.467\n",
      "INFO:tensorflow:loss = 9.648092, step = 3401 (0.488 sec)\n",
      "INFO:tensorflow:global_step/sec: 191.35\n",
      "INFO:tensorflow:loss = 16.100245, step = 3501 (0.523 sec)\n",
      "INFO:tensorflow:global_step/sec: 173.774\n",
      "INFO:tensorflow:loss = 9.128811, step = 3601 (0.576 sec)\n",
      "INFO:tensorflow:global_step/sec: 191.716\n",
      "INFO:tensorflow:loss = 15.367469, step = 3701 (0.521 sec)\n",
      "INFO:tensorflow:global_step/sec: 178.412\n",
      "INFO:tensorflow:loss = 17.8197, step = 3801 (0.561 sec)\n",
      "INFO:tensorflow:global_step/sec: 193.941\n",
      "INFO:tensorflow:loss = 12.111563, step = 3901 (0.515 sec)\n",
      "INFO:tensorflow:global_step/sec: 181.974\n",
      "INFO:tensorflow:loss = 8.4264965, step = 4001 (0.551 sec)\n",
      "INFO:tensorflow:global_step/sec: 192.083\n",
      "INFO:tensorflow:loss = 9.006455, step = 4101 (0.520 sec)\n",
      "INFO:tensorflow:global_step/sec: 184.315\n",
      "INFO:tensorflow:loss = 7.355544, step = 4201 (0.544 sec)\n",
      "INFO:tensorflow:global_step/sec: 185.338\n",
      "INFO:tensorflow:loss = 10.408651, step = 4301 (0.540 sec)\n",
      "INFO:tensorflow:global_step/sec: 163.036\n",
      "INFO:tensorflow:loss = 3.3431883, step = 4401 (0.612 sec)\n",
      "INFO:tensorflow:global_step/sec: 195.835\n",
      "INFO:tensorflow:loss = 12.540202, step = 4501 (0.511 sec)\n",
      "INFO:tensorflow:global_step/sec: 178.095\n",
      "INFO:tensorflow:loss = 8.316215, step = 4601 (0.562 sec)\n",
      "INFO:tensorflow:global_step/sec: 189.901\n",
      "INFO:tensorflow:loss = 7.178946, step = 4701 (0.526 sec)\n",
      "INFO:tensorflow:global_step/sec: 183.974\n",
      "INFO:tensorflow:loss = 0.81686676, step = 4801 (0.544 sec)\n",
      "INFO:tensorflow:global_step/sec: 162.511\n",
      "INFO:tensorflow:loss = 13.178194, step = 4901 (0.620 sec)\n",
      "INFO:tensorflow:global_step/sec: 115.916\n",
      "INFO:tensorflow:loss = 17.136745, step = 5001 (0.859 sec)\n",
      "INFO:tensorflow:global_step/sec: 123.483\n",
      "INFO:tensorflow:loss = 2.883353, step = 5101 (0.810 sec)\n",
      "INFO:tensorflow:global_step/sec: 170.524\n",
      "INFO:tensorflow:loss = 20.560923, step = 5201 (0.586 sec)\n",
      "INFO:tensorflow:global_step/sec: 119.651\n",
      "INFO:tensorflow:loss = 6.315524, step = 5301 (0.836 sec)\n",
      "INFO:tensorflow:global_step/sec: 190.206\n",
      "INFO:tensorflow:loss = 6.3897953, step = 5401 (0.523 sec)\n",
      "INFO:tensorflow:global_step/sec: 178.872\n",
      "INFO:tensorflow:loss = 15.591898, step = 5501 (0.562 sec)\n",
      "INFO:tensorflow:global_step/sec: 123.635\n",
      "INFO:tensorflow:loss = 20.359455, step = 5601 (0.808 sec)\n",
      "INFO:tensorflow:global_step/sec: 150.326\n",
      "INFO:tensorflow:loss = 17.482828, step = 5701 (0.665 sec)\n",
      "INFO:tensorflow:global_step/sec: 181.642\n",
      "INFO:tensorflow:loss = 10.579607, step = 5801 (0.551 sec)\n",
      "INFO:tensorflow:global_step/sec: 171.988\n",
      "INFO:tensorflow:loss = 17.998873, step = 5901 (0.582 sec)\n",
      "INFO:tensorflow:global_step/sec: 168.801\n",
      "INFO:tensorflow:loss = 14.813665, step = 6001 (0.591 sec)\n",
      "INFO:tensorflow:global_step/sec: 170.523\n",
      "INFO:tensorflow:loss = 8.767598, step = 6101 (0.586 sec)\n",
      "INFO:tensorflow:global_step/sec: 171.396\n",
      "INFO:tensorflow:loss = 4.9278307, step = 6201 (0.584 sec)\n",
      "INFO:tensorflow:global_step/sec: 177.153\n",
      "INFO:tensorflow:loss = 7.774873, step = 6301 (0.564 sec)\n",
      "INFO:tensorflow:global_step/sec: 178.094\n",
      "INFO:tensorflow:loss = 6.1823416, step = 6401 (0.561 sec)\n",
      "INFO:tensorflow:global_step/sec: 181.644\n",
      "INFO:tensorflow:loss = 14.479669, step = 6501 (0.551 sec)\n",
      "INFO:tensorflow:global_step/sec: 177.78\n",
      "INFO:tensorflow:loss = 5.1627607, step = 6601 (0.562 sec)\n",
      "INFO:tensorflow:global_step/sec: 173.773\n",
      "INFO:tensorflow:loss = 16.185349, step = 6701 (0.576 sec)\n",
      "INFO:tensorflow:global_step/sec: 174.378\n",
      "INFO:tensorflow:loss = 10.995774, step = 6801 (0.571 sec)\n",
      "INFO:tensorflow:global_step/sec: 174.987\n",
      "INFO:tensorflow:loss = 17.101269, step = 6901 (0.572 sec)\n",
      "INFO:tensorflow:global_step/sec: 178.095\n",
      "INFO:tensorflow:loss = 9.288069, step = 7001 (0.561 sec)\n",
      "INFO:tensorflow:global_step/sec: 181.286\n",
      "INFO:tensorflow:loss = 7.659108, step = 7101 (0.549 sec)\n",
      "INFO:tensorflow:global_step/sec: 190.928\n",
      "INFO:tensorflow:loss = 5.246106, step = 7201 (0.539 sec)\n",
      "INFO:tensorflow:global_step/sec: 183.286\n",
      "INFO:tensorflow:loss = 5.1524696, step = 7301 (0.546 sec)\n",
      "INFO:tensorflow:global_step/sec: 188.631\n",
      "INFO:tensorflow:loss = 14.50574, step = 7401 (0.515 sec)\n",
      "INFO:tensorflow:global_step/sec: 191.257\n",
      "INFO:tensorflow:loss = 4.489026, step = 7501 (0.523 sec)\n",
      "INFO:tensorflow:global_step/sec: 185.276\n",
      "INFO:tensorflow:loss = 6.27143, step = 7601 (0.540 sec)\n",
      "INFO:tensorflow:global_step/sec: 196.096\n",
      "INFO:tensorflow:loss = 15.630529, step = 7701 (0.510 sec)\n",
      "INFO:tensorflow:global_step/sec: 188.119\n",
      "INFO:tensorflow:loss = 5.035474, step = 7801 (0.534 sec)\n",
      "INFO:tensorflow:global_step/sec: 196.218\n",
      "INFO:tensorflow:loss = 5.1655684, step = 7901 (0.511 sec)\n",
      "INFO:tensorflow:Saving checkpoints for 8000 into dnn_output\\model.ckpt.\n",
      "INFO:tensorflow:Loss for final step: 11.819202.\n"
     ]
    },
    {
     "data": {
      "text/plain": [
       "<tensorflow.python.estimator.canned.dnn.DNNClassifier at 0x1ae6b8d8f98>"
      ]
     },
     "execution_count": 39,
     "metadata": {},
     "output_type": "execute_result"
    }
   ],
   "source": [
    "# Step 4: Train the estimator\n",
    "def train_func():\n",
    "    dataset = tf.data.TFRecordDataset('../images/mnist_train.tfrecords')\n",
    "    dataset = dataset.map(parser).repeat().batch(batch_size)\n",
    "    image, label = dataset.make_one_shot_iterator().get_next()\n",
    "    return {'pixels': image}, label\n",
    "dnn_class.train(train_func, steps=num_steps)"
   ]
  },
  {
   "cell_type": "code",
   "execution_count": 40,
   "metadata": {},
   "outputs": [
    {
     "name": "stdout",
     "output_type": "stream",
     "text": [
      "INFO:tensorflow:Calling model_fn.\n",
      "INFO:tensorflow:Done calling model_fn.\n",
      "INFO:tensorflow:Starting evaluation at 2020-05-24-10:02:51\n",
      "INFO:tensorflow:Graph was finalized.\n",
      "INFO:tensorflow:Restoring parameters from dnn_output\\model.ckpt-8000\n",
      "INFO:tensorflow:Running local_init_op.\n",
      "INFO:tensorflow:Done running local_init_op.\n",
      "INFO:tensorflow:Finished evaluation at 2020-05-24-10:02:52\n",
      "INFO:tensorflow:Saving dict for global step 8000: accuracy = 0.9591, average_loss = 0.13177508, global_step = 8000, loss = 10.5420065\n"
     ]
    }
   ],
   "source": [
    "# Step 5: Test the estimator\n",
    "def test_func():\n",
    "    dataset = tf.data.TFRecordDataset('../images/mnist_test.tfrecords')    \n",
    "    dataset = dataset.map(parser).batch(batch_size)\n",
    "    image, label = dataset.make_one_shot_iterator().get_next()\n",
    "    return {'pixels': image}, label\n",
    "metrics = dnn_class.evaluate(test_func)"
   ]
  },
  {
   "cell_type": "code",
   "execution_count": 41,
   "metadata": {},
   "outputs": [
    {
     "name": "stdout",
     "output_type": "stream",
     "text": [
      "accuracy :  0.9591\n",
      "average_loss :  0.13177508\n",
      "loss :  10.5420065\n",
      "global_step :  8000\n"
     ]
    }
   ],
   "source": [
    "# Display metrics\n",
    "for key, value in metrics.items():\n",
    "    print(key, ': ', value)"
   ]
  },
  {
   "cell_type": "code",
   "execution_count": null,
   "metadata": {},
   "outputs": [],
   "source": []
  }
 ],
 "metadata": {
  "kernelspec": {
   "display_name": "Python 3",
   "language": "python",
   "name": "python3"
  },
  "language_info": {
   "codemirror_mode": {
    "name": "ipython",
    "version": 3
   },
   "file_extension": ".py",
   "mimetype": "text/x-python",
   "name": "python",
   "nbconvert_exporter": "python",
   "pygments_lexer": "ipython3",
   "version": "3.6.10"
  }
 },
 "nbformat": 4,
 "nbformat_minor": 4
}
